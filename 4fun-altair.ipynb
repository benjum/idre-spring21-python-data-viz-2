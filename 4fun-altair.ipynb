{
 "cells": [
  {
   "cell_type": "markdown",
   "metadata": {},
   "source": [
    "# NOTE: This notebook is taken from the GitHub repo of the LA Times datadesk:\n",
    "\n",
    "Original Title: california-coronavirus-data examples\n",
    "\n",
    "By [Ben Welsh](https://palewi.re/who-is-ben-welsh)\n",
    "\n",
    "A demonstration of how to use Python to work with the Los Angeles Times' independent tally of coronavirus cases in California published on GitHub at [datadesk/california-coronavirus-data](https://github.com/datadesk/california-coronavirus-data#state-cdph-totalscsv). To run this notebook immediately in the cloud,  click the [Binder](https://mybinder.org/) launcher below.\n",
    "\n",
    "[![Binder](https://mybinder.org/badge_logo.svg)](https://mybinder.org/v2/gh/datadesk/california-coronavirus-data/master?urlpath=lab/tree/notebooks/examples.ipynb)\n",
    "\n",
    "## Subnotes: \n",
    "\n",
    "* Notebook and data were retrieved on April 23, 2021\n",
    "* Modifications for the IDRE workshop are made at the very bottom below the header \"IDRE Workshop Additions\"\n",
    "* The Binder link for interacting with the IDRE workshop materials is [Here](https://mybinder.org/v2/gh/benjum/idre-spring21-python-data-viz-2/HEAD)"
   ]
  },
  {
   "cell_type": "code",
   "execution_count": null,
   "metadata": {},
   "outputs": [],
   "source": [
    "# commented out for IDRE class\n",
    "# %load_ext lab_black"
   ]
  },
  {
   "cell_type": "markdown",
   "metadata": {},
   "source": [
    "## Import Python tools"
   ]
  },
  {
   "cell_type": "markdown",
   "metadata": {},
   "source": [
    "Our data analysis and plotting tools"
   ]
  },
  {
   "cell_type": "code",
   "execution_count": null,
   "metadata": {},
   "outputs": [],
   "source": [
    "import pandas as pd\n",
    "import altair as alt"
   ]
  },
  {
   "cell_type": "markdown",
   "metadata": {},
   "source": [
    "Customizations to the Altair theme"
   ]
  },
  {
   "cell_type": "code",
   "execution_count": null,
   "metadata": {},
   "outputs": [],
   "source": [
    "import altair_latimes as lat"
   ]
  },
  {
   "cell_type": "code",
   "execution_count": null,
   "metadata": {},
   "outputs": [],
   "source": [
    "alt.themes.register(\"latimes\", lat.theme)\n",
    "alt.themes.enable(\"latimes\")"
   ]
  },
  {
   "cell_type": "code",
   "execution_count": null,
   "metadata": {},
   "outputs": [],
   "source": [
    "alt.data_transformers.disable_max_rows()"
   ]
  },
  {
   "cell_type": "markdown",
   "metadata": {},
   "source": [
    "## Import data"
   ]
  },
  {
   "cell_type": "markdown",
   "metadata": {},
   "source": [
    "Read in the agency totals"
   ]
  },
  {
   "cell_type": "code",
   "execution_count": null,
   "metadata": {},
   "outputs": [],
   "source": [
    "agency_df = pd.read_csv(\"data/latimes-agency-totals.csv\", parse_dates=[\"date\"])"
   ]
  },
  {
   "cell_type": "code",
   "execution_count": null,
   "metadata": {},
   "outputs": [],
   "source": [
    "agency_df.head()"
   ]
  },
  {
   "cell_type": "code",
   "execution_count": null,
   "metadata": {},
   "outputs": [],
   "source": [
    "agency_df.info()"
   ]
  },
  {
   "cell_type": "markdown",
   "metadata": {},
   "source": [
    "## Aggregate data"
   ]
  },
  {
   "cell_type": "markdown",
   "metadata": {},
   "source": [
    "### By state"
   ]
  },
  {
   "cell_type": "markdown",
   "metadata": {},
   "source": [
    "Lump all the agencies together and you get the statewide totals."
   ]
  },
  {
   "cell_type": "code",
   "execution_count": null,
   "metadata": {},
   "outputs": [],
   "source": [
    "state_df = (\n",
    "    agency_df.groupby([\"date\"])\n",
    "    .agg({\"confirmed_cases\": \"sum\", \"deaths\": \"sum\"})\n",
    "    .reset_index()\n",
    ")"
   ]
  },
  {
   "cell_type": "code",
   "execution_count": null,
   "metadata": {},
   "outputs": [],
   "source": [
    "state_df.head()"
   ]
  },
  {
   "cell_type": "code",
   "execution_count": null,
   "metadata": {},
   "outputs": [],
   "source": [
    "state_df.info()"
   ]
  },
  {
   "cell_type": "markdown",
   "metadata": {},
   "source": [
    "### By county"
   ]
  },
  {
   "cell_type": "markdown",
   "metadata": {},
   "source": [
    "Three cities &mdash; Berkeley, Long Beach and Pasadena &mdash; run independent public health departments. Calculating county-level totals requires grouping them with their local peers."
   ]
  },
  {
   "cell_type": "code",
   "execution_count": null,
   "metadata": {},
   "outputs": [],
   "source": [
    "county_df = (\n",
    "    agency_df.groupby([\"date\", \"county\"])\n",
    "    .agg({\"confirmed_cases\": \"sum\", \"deaths\": \"sum\"})\n",
    "    .reset_index()\n",
    ")"
   ]
  },
  {
   "cell_type": "code",
   "execution_count": null,
   "metadata": {},
   "outputs": [],
   "source": [
    "county_df.head()"
   ]
  },
  {
   "cell_type": "code",
   "execution_count": null,
   "metadata": {},
   "outputs": [],
   "source": [
    "county_df.info()"
   ]
  },
  {
   "cell_type": "markdown",
   "metadata": {},
   "source": [
    "## Chart the statewide totals over time"
   ]
  },
  {
   "cell_type": "code",
   "execution_count": null,
   "metadata": {},
   "outputs": [],
   "source": [
    "# Create a base chart with the common x-axis\n",
    "chart = alt.Chart(state_df).encode(x=alt.X(\"date:T\", title=None))\n",
    "\n",
    "# Create the cases line\n",
    "cases = chart.mark_line(color=lat.palette[\"default\"]).encode(\n",
    "    y=alt.Y(\"confirmed_cases:Q\", title=\"Confirmed cases\")\n",
    ")\n",
    "\n",
    "# Create the deaths line\n",
    "deaths = chart.mark_line(color=lat.palette[\"schemes\"][\"ice-7\"][3]).encode(\n",
    "    y=alt.Y(\"deaths:Q\", title=\"Deaths\")\n",
    ")\n",
    "\n",
    "# Combine them into a single chart\n",
    "(cases & deaths).properties(title=\"Statewide cumulative totals\")"
   ]
  },
  {
   "cell_type": "markdown",
   "metadata": {},
   "source": [
    "## Chart the county totals"
   ]
  },
  {
   "cell_type": "markdown",
   "metadata": {},
   "source": [
    "First on a linear scale"
   ]
  },
  {
   "cell_type": "code",
   "execution_count": null,
   "metadata": {},
   "outputs": [],
   "source": [
    "# Create the base chart\n",
    "chart = (\n",
    "    alt.Chart(county_df)\n",
    "    .mark_line()\n",
    "    .encode(\n",
    "        x=alt.X(\"date:T\", title=None),\n",
    "        color=alt.Color(\"county:N\", title=\"County\", legend=None),\n",
    "    )\n",
    ")\n",
    "\n",
    "# The cases line\n",
    "cases = chart.encode(y=alt.Y(\"confirmed_cases:Q\", title=\"Confirmed cases\"),)\n",
    "\n",
    "# The deaths line\n",
    "deaths = chart.mark_line().encode(y=alt.Y(\"deaths:Q\", title=\"Deaths\"),)\n",
    "\n",
    "# Combined into a chart\n",
    "(cases & deaths).properties(title=\"Cumulative totals by county\")"
   ]
  },
  {
   "cell_type": "markdown",
   "metadata": {},
   "source": [
    "Again on a logarithmic scale"
   ]
  },
  {
   "cell_type": "code",
   "execution_count": null,
   "metadata": {},
   "outputs": [],
   "source": [
    "# Make a base chart\n",
    "chart = (\n",
    "    alt.Chart(county_df)\n",
    "    .mark_line()\n",
    "    .encode(\n",
    "        x=alt.X(\"date:T\", title=None),\n",
    "        color=alt.Color(\"county:N\", title=\"County\", legend=None),\n",
    "    )\n",
    ")\n",
    "\n",
    "# The cases lines\n",
    "cases = chart.transform_filter(alt.datum.confirmed_cases > 0).encode(\n",
    "    y=alt.Y(\"confirmed_cases:Q\", scale=alt.Scale(type=\"log\"), title=\"Confirmed cases\"),\n",
    ")\n",
    "\n",
    "# The deaths lines\n",
    "deaths = chart.transform_filter(alt.datum.deaths > 0).encode(\n",
    "    y=alt.Y(\"deaths:Q\", scale=alt.Scale(type=\"log\"), title=\"Deaths\"),\n",
    ")\n",
    "\n",
    "# Slapping them together\n",
    "(cases & deaths).properties(title=\"Cumulative totals by county\")"
   ]
  },
  {
   "cell_type": "markdown",
   "metadata": {},
   "source": [
    "A common technique for clarifying these charts to begin each line on the day the county hit a minimum number. Let's try it with 10."
   ]
  },
  {
   "cell_type": "code",
   "execution_count": null,
   "metadata": {},
   "outputs": [],
   "source": [
    "day_10_df = (\n",
    "    county_df[\n",
    "        # Filter down to only days with 10 or more cumulative cases\n",
    "        county_df.confirmed_cases\n",
    "        >= 10\n",
    "    ]\n",
    "    .groupby(\n",
    "        # And then get the minimum date for each county\n",
    "        \"county\"\n",
    "    )\n",
    "    .date.min()\n",
    "    .reset_index()\n",
    ")"
   ]
  },
  {
   "cell_type": "markdown",
   "metadata": {},
   "source": [
    "Merge that date to each row in the data."
   ]
  },
  {
   "cell_type": "code",
   "execution_count": null,
   "metadata": {},
   "outputs": [],
   "source": [
    "county_date_diff_df = county_df.merge(\n",
    "    day_10_df, how=\"inner\", on=\"county\", suffixes=[\"\", \"_gte_10_cases\"]\n",
    ")"
   ]
  },
  {
   "cell_type": "markdown",
   "metadata": {},
   "source": [
    "Calculate each day's distance from its tenth day."
   ]
  },
  {
   "cell_type": "code",
   "execution_count": null,
   "metadata": {},
   "outputs": [],
   "source": [
    "county_date_diff_df[\"days_since_10\"] = (\n",
    "    county_date_diff_df.date - county_date_diff_df.date_gte_10_cases\n",
    ").dt.days"
   ]
  },
  {
   "cell_type": "markdown",
   "metadata": {},
   "source": [
    "Chart it."
   ]
  },
  {
   "cell_type": "code",
   "execution_count": null,
   "metadata": {},
   "outputs": [],
   "source": [
    "alt.Chart(county_date_diff_df).transform_filter(\n",
    "    # Only keep everything once they hit 10 cases\n",
    "    alt.datum.days_since_10\n",
    "    >= 0\n",
    ").mark_line().encode(\n",
    "    x=alt.X(\"days_since_10:O\", title=\"Days since 10th case\"),\n",
    "    y=alt.Y(\"confirmed_cases:Q\", scale=alt.Scale(type=\"log\"), title=\"Confirmed cases\"),\n",
    "    color=alt.Color(\"county:N\", title=\"County\", legend=None),\n",
    ").properties(\n",
    "    title=\"Cumulative totals by county\"\n",
    ")"
   ]
  },
  {
   "cell_type": "markdown",
   "metadata": {},
   "source": [
    "## County trends on a linear 'Pez' plot"
   ]
  },
  {
   "cell_type": "markdown",
   "metadata": {},
   "source": [
    "Fill in any date gaps so that every county has a row for every date."
   ]
  },
  {
   "cell_type": "code",
   "execution_count": null,
   "metadata": {},
   "outputs": [],
   "source": [
    "backfilled_county_df = (\n",
    "    county_df.set_index([\"county\", \"date\"])\n",
    "    .unstack(\"county\")\n",
    "    .fillna(0)\n",
    "    .stack(\"county\")\n",
    "    .reset_index()\n",
    ")"
   ]
  },
  {
   "cell_type": "markdown",
   "metadata": {},
   "source": [
    "Calculate the rolling change in each county."
   ]
  },
  {
   "cell_type": "code",
   "execution_count": null,
   "metadata": {},
   "outputs": [],
   "source": [
    "chronological_county_df = backfilled_county_df.sort_values([\"county\", \"date\"])"
   ]
  },
  {
   "cell_type": "markdown",
   "metadata": {},
   "source": [
    "Calculate the daily change in each county."
   ]
  },
  {
   "cell_type": "code",
   "execution_count": null,
   "metadata": {},
   "outputs": [],
   "source": [
    "chronological_county_df[\"new_confirmed_cases\"] = chronological_county_df.groupby(\n",
    "    \"county\"\n",
    ").confirmed_cases.diff()"
   ]
  },
  {
   "cell_type": "markdown",
   "metadata": {},
   "source": [
    "Let's chill that out as a seven-day average."
   ]
  },
  {
   "cell_type": "code",
   "execution_count": null,
   "metadata": {},
   "outputs": [],
   "source": [
    "chronological_county_df[\"new_confirmed_cases_rolling_average\"] = (\n",
    "    chronological_county_df.groupby(\"county\")\n",
    "    .new_confirmed_cases.rolling(7)\n",
    "    .mean()\n",
    "    .droplevel(0)\n",
    ")"
   ]
  },
  {
   "cell_type": "markdown",
   "metadata": {},
   "source": [
    "Make the chart."
   ]
  },
  {
   "cell_type": "code",
   "execution_count": null,
   "metadata": {},
   "outputs": [],
   "source": [
    "alt.Chart(chronological_county_df, title=\"New cases by day\").mark_rect(\n",
    "    stroke=None\n",
    ").encode(\n",
    "    x=alt.X(\n",
    "        \"date:O\", axis=alt.Axis(ticks=False, grid=False, labels=False,), title=None\n",
    "    ),\n",
    "    y=alt.Y(\n",
    "        \"county:N\",\n",
    "        title=\"County\",\n",
    "        axis=alt.Axis(ticks=False, grid=False, labelPadding=5),\n",
    "    ),\n",
    "    color=alt.Color(\n",
    "        \"new_confirmed_cases_rolling_average:Q\",\n",
    "        scale=alt.Scale(\n",
    "            type=\"threshold\", domain=[0, 3, 10, 25, 50, 100, 500], scheme=\"blues\"\n",
    "        ),\n",
    "        title=\"New cases (7-day average)\",\n",
    "    ),\n",
    ").properties(\n",
    "    height=800\n",
    ")"
   ]
  },
  {
   "cell_type": "markdown",
   "metadata": {},
   "source": [
    "## Chart new cases and deaths"
   ]
  },
  {
   "cell_type": "markdown",
   "metadata": {},
   "source": [
    "Calculate the number of new cases each day using panda's [diff](https://pandas.pydata.org/pandas-docs/stable/reference/api/pandas.DataFrame.diff.html) method."
   ]
  },
  {
   "cell_type": "code",
   "execution_count": null,
   "metadata": {},
   "outputs": [],
   "source": [
    "state_df[\"new_confirmed_cases\"] = state_df.confirmed_cases.diff()"
   ]
  },
  {
   "cell_type": "markdown",
   "metadata": {},
   "source": [
    "Do the same for deaths"
   ]
  },
  {
   "cell_type": "code",
   "execution_count": null,
   "metadata": {},
   "outputs": [],
   "source": [
    "state_df[\"new_deaths\"] = state_df.deaths.diff()"
   ]
  },
  {
   "cell_type": "markdown",
   "metadata": {},
   "source": [
    "Now calculate the moving seven-day average of each using panda's [rolling](https://pandas.pydata.org/pandas-docs/stable/reference/api/pandas.DataFrame.rolling.html) method."
   ]
  },
  {
   "cell_type": "code",
   "execution_count": null,
   "metadata": {},
   "outputs": [],
   "source": [
    "state_df[\"new_confirmed_cases_rolling_average\"] = state_df.new_confirmed_cases.rolling(\n",
    "    7\n",
    ").mean()"
   ]
  },
  {
   "cell_type": "code",
   "execution_count": null,
   "metadata": {},
   "outputs": [],
   "source": [
    "state_df[\"new_deaths_rolling_average\"] = state_df.new_deaths.rolling(7).mean()"
   ]
  },
  {
   "cell_type": "markdown",
   "metadata": {},
   "source": [
    "Put it all together on the chart "
   ]
  },
  {
   "cell_type": "code",
   "execution_count": null,
   "metadata": {},
   "outputs": [],
   "source": [
    "# One base chart object with the data they all share\n",
    "chart = alt.Chart(state_df).encode(x=alt.X(\"date:T\", title=None),)\n",
    "\n",
    "# The new cases bars\n",
    "cases_bars = chart.mark_bar(color=lat.palette[\"default\"]).encode(\n",
    "    y=alt.Y(\"new_confirmed_cases:Q\", title=\"New confirmed cases\")\n",
    ")\n",
    "\n",
    "# The cases rolling average\n",
    "cases_line = chart.mark_line(color=lat.palette[\"accent\"]).encode(\n",
    "    y=alt.Y(\"new_confirmed_cases_rolling_average:Q\", title=\"7-day average\")\n",
    ")\n",
    "\n",
    "# The new deaths bars\n",
    "deaths_bars = chart.mark_bar(color=lat.palette[\"schemes\"][\"ice-7\"][3]).encode(\n",
    "    y=alt.Y(\"new_deaths:Q\", title=\"New deaths\")\n",
    ")\n",
    "\n",
    "# The deaths rolling average\n",
    "deaths_line = chart.mark_line(color=lat.palette[\"schemes\"][\"ice-7\"][6]).encode(\n",
    "    y=alt.Y(\"new_deaths_rolling_average:Q\", title=\"7-day average\")\n",
    ")\n",
    "\n",
    "# Combine it all together into one paired chart\n",
    "((cases_bars + cases_line) & (deaths_bars + deaths_line)).properties(\n",
    "    title=\"New case and deaths statewide by day\"\n",
    ")"
   ]
  },
  {
   "cell_type": "markdown",
   "metadata": {},
   "source": [
    "Now do it by county"
   ]
  },
  {
   "cell_type": "code",
   "execution_count": null,
   "metadata": {},
   "outputs": [],
   "source": [
    "chronological_county_df.head()"
   ]
  },
  {
   "cell_type": "markdown",
   "metadata": {},
   "source": [
    "Try it by county"
   ]
  },
  {
   "cell_type": "code",
   "execution_count": null,
   "metadata": {},
   "outputs": [],
   "source": [
    "alt.Chart(chronological_county_df, title=\"New cases by day\").mark_line().encode(\n",
    "    x=alt.X(\"date:O\", axis=alt.Axis(ticks=False, grid=False, labels=False), title=None),\n",
    "    y=alt.Y(\"new_confirmed_cases_rolling_average:Q\", title=\"7-day average\"),\n",
    "    color=alt.Color(\"county:N\", title=\"County\", legend=None),\n",
    ")"
   ]
  },
  {
   "cell_type": "markdown",
   "metadata": {},
   "source": [
    "Create a statistic to measure recent changes in new cases"
   ]
  },
  {
   "cell_type": "code",
   "execution_count": null,
   "metadata": {},
   "outputs": [],
   "source": [
    "chronological_county_df.tail(14)"
   ]
  },
  {
   "cell_type": "code",
   "execution_count": null,
   "metadata": {},
   "outputs": [],
   "source": [
    "chronological_county_df[\n",
    "    \"new_confirmed_cases_rolling_average_two_week_pct_change\"\n",
    "] = chronological_county_df.groupby(\n",
    "    \"county\"\n",
    ").new_confirmed_cases_rolling_average.pct_change(\n",
    "    14\n",
    ")"
   ]
  },
  {
   "cell_type": "code",
   "execution_count": null,
   "metadata": {},
   "outputs": [],
   "source": [
    "latest_county_df = chronological_county_df[\n",
    "    chronological_county_df.date == chronological_county_df.date.max()\n",
    "]"
   ]
  },
  {
   "cell_type": "code",
   "execution_count": null,
   "metadata": {},
   "outputs": [],
   "source": [
    "biggest_county_jumps = latest_county_df[\n",
    "    latest_county_df.new_confirmed_cases_rolling_average >= 25\n",
    "].sort_values(\n",
    "    \"new_confirmed_cases_rolling_average_two_week_pct_change\", ascending=False\n",
    ")"
   ]
  },
  {
   "cell_type": "code",
   "execution_count": null,
   "metadata": {},
   "outputs": [],
   "source": [
    "def facet_wrap(subplts, plots_per_row):\n",
    "    rows = [\n",
    "        subplts[i : i + plots_per_row] for i in range(0, len(subplts), plots_per_row)\n",
    "    ]\n",
    "    compound_chart = alt.hconcat()\n",
    "    for r in rows:\n",
    "        rowplot = alt.vconcat()  # start a new row\n",
    "        for item in r:\n",
    "            rowplot |= item  # add suplot to current row as a new column\n",
    "        compound_chart &= rowplot  # add the entire row of plots as a new row\n",
    "    return compound_chart"
   ]
  },
  {
   "cell_type": "code",
   "execution_count": null,
   "metadata": {},
   "outputs": [],
   "source": []
  },
  {
   "cell_type": "code",
   "execution_count": null,
   "metadata": {},
   "outputs": [],
   "source": [
    "chart_list = []\n",
    "for county in list(biggest_county_jumps.head(12).county):\n",
    "    this_df = chronological_county_df[chronological_county_df.county == county]\n",
    "    chart = alt.Chart(this_df, title=county).encode(\n",
    "        x=alt.X(\"date:T\", title=None, axis=None),\n",
    "    )\n",
    "    lines = chart.mark_line(color=lat.palette[\"accent\"]).encode(\n",
    "        y=alt.Y(\"new_confirmed_cases_rolling_average:Q\", title=None,),\n",
    "    )\n",
    "    bars = chart.mark_bar(color=lat.palette[\"default\"], opacity=0.33).encode(\n",
    "        y=alt.Y(\"new_confirmed_cases:Q\", title=\"New confirmed cases\",),\n",
    "    )\n",
    "    chart_list.append((bars + lines).properties(height=200, width=250))\n",
    "facet_wrap(chart_list, plots_per_row=4)"
   ]
  },
  {
   "cell_type": "code",
   "execution_count": null,
   "metadata": {},
   "outputs": [],
   "source": [
    "chart_list = []\n",
    "for county in list(biggest_county_jumps.tail(12).county):\n",
    "    this_df = chronological_county_df[chronological_county_df.county == county]\n",
    "    chart = alt.Chart(this_df, title=county).encode(\n",
    "        x=alt.X(\"date:T\", title=None, axis=None),\n",
    "    )\n",
    "    lines = chart.mark_line(color=lat.palette[\"accent\"]).encode(\n",
    "        y=alt.Y(\"new_confirmed_cases_rolling_average:Q\", title=None,),\n",
    "    )\n",
    "    bars = chart.mark_bar(color=lat.palette[\"default\"], opacity=0.33).encode(\n",
    "        y=alt.Y(\"new_confirmed_cases:Q\", title=\"New confirmed cases\",),\n",
    "    )\n",
    "    chart_list.append((bars + lines).properties(height=200, width=250))\n",
    "facet_wrap(chart_list, plots_per_row=4)"
   ]
  },
  {
   "cell_type": "code",
   "execution_count": null,
   "metadata": {},
   "outputs": [],
   "source": [
    "biggest_county_jumps.new_confirmed_cases_rolling_average_two_week_pct_change.describe()"
   ]
  },
  {
   "cell_type": "code",
   "execution_count": null,
   "metadata": {},
   "outputs": [],
   "source": [
    "biggest_county_jumps[\n",
    "    biggest_county_jumps.new_confirmed_cases_rolling_average_two_week_pct_change < 0\n",
    "]"
   ]
  },
  {
   "cell_type": "markdown",
   "metadata": {},
   "source": [
    "# IDRE Workshop Additions"
   ]
  },
  {
   "cell_type": "code",
   "execution_count": null,
   "metadata": {},
   "outputs": [],
   "source": [
    "alt.Chart(chronological_county_df, title=\"New cases by day\").mark_line().encode(\n",
    "    x=alt.X(\"date:O\", axis=alt.Axis(ticks=False, grid=False, labels=False), title=None),\n",
    "    y=alt.Y(\"new_confirmed_cases_rolling_average:Q\", title=\"7-day average\"),\n",
    "    color=alt.Color(\"county:N\", title=\"County\", legend=None),\n",
    ")"
   ]
  },
  {
   "cell_type": "code",
   "execution_count": null,
   "metadata": {},
   "outputs": [],
   "source": [
    "selopac = alt.selection_single(fields=['county'],bind='legend')\n",
    "how_to_select = 'CLICK ON COUNTY IN LEGEND TO SELECT'\n",
    "chronological_county_df_minusLA = chronological_county_df[chronological_county_df['county']!='Los Angeles']\n",
    "\n",
    "alt.Chart(chronological_county_df_minusLA, title=\"New cases by day\"+how_to_select).mark_line().encode(\n",
    "    x=alt.X(\"date:O\", axis=alt.Axis(ticks=False, grid=False, labels=False), title=None),\n",
    "    y=alt.Y(\"new_confirmed_cases_rolling_average:Q\", title=\"7-day average\"),\n",
    "    color=alt.Color(\"county:N\", title=\"County\"),\n",
    "    opacity=alt.condition(selopac, alt.value(1), alt.value(0.1))\n",
    ").add_selection(selopac)"
   ]
  },
  {
   "cell_type": "code",
   "execution_count": null,
   "metadata": {},
   "outputs": [],
   "source": [
    "# top 20 counties in terms of mean new confirmed cases\n",
    "top20=list(chronological_county_df.groupby('county')['new_confirmed_cases'].mean().sort_values(ascending=False)[:20].index)"
   ]
  },
  {
   "cell_type": "code",
   "execution_count": null,
   "metadata": {},
   "outputs": [],
   "source": [
    "selopac = alt.selection_single(on='mouseover',fields=['county'],bind='legend') \n",
    "how_to_select = 'MOVE MOUSE OVER LINE TO SELECT LINE'\n",
    "chronological_county_df_top20 = chronological_county_df[chronological_county_df['county'].isin(top20)]\n",
    "\n",
    "alt.Chart(chronological_county_df_top20, title=\"New cases by day\"+how_to_select).mark_line().encode(\n",
    "    x=alt.X(\"date:O\", axis=alt.Axis(ticks=False, grid=False, labels=False), title=None),\n",
    "    y=alt.Y(\"new_confirmed_cases_rolling_average:Q\", title=\"7-day average\"),\n",
    "    color=alt.Color(\"county:N\", title=\"County\"),\n",
    "    opacity=alt.condition(selopac, alt.value(1), alt.value(0.1))\n",
    ").add_selection(selopac)"
   ]
  },
  {
   "cell_type": "code",
   "execution_count": null,
   "metadata": {},
   "outputs": [],
   "source": [
    "selopac = alt.selection_single(fields=['county'],bind='legend') \n",
    "how_to_select = 'CLICK ON COUNTY IN LEGEND TO SELECT'\n",
    "chronological_county_df_top20 = chronological_county_df[chronological_county_df['county'].isin(top20)]\n",
    "chronological_county_df_top20 = chronological_county_df_top20[chronological_county_df_top20.date > '2021-03-01']\n",
    "\n",
    "alt.Chart(chronological_county_df_top20, title=\"New cases by day\"+how_to_select).mark_line().encode(\n",
    "    x=alt.X(\"date:O\", axis=alt.Axis(ticks=False, grid=False, labels=False), title=None),\n",
    "    y=alt.Y(\"new_confirmed_cases_rolling_average:Q\", title=\"7-day average\"),\n",
    "    color=alt.Color(\"county:N\", title=\"County\"),\n",
    "    opacity=alt.condition(selopac, alt.value(1), alt.value(0.1))\n",
    ").add_selection(selopac)"
   ]
  },
  {
   "cell_type": "code",
   "execution_count": null,
   "metadata": {},
   "outputs": [],
   "source": [
    "chart_list = []\n",
    "for county in list(biggest_county_jumps.tail(12).county):\n",
    "    this_df = chronological_county_df[chronological_county_df.county == county]\n",
    "    chart = alt.Chart(this_df, title=county).encode(\n",
    "        x=alt.X(\"date:T\", title=None, axis=None),\n",
    "    )\n",
    "    lines = chart.mark_line(color=lat.palette[\"accent\"]).encode(\n",
    "        y=alt.Y(\"new_confirmed_cases_rolling_average:Q\", title=None,),\n",
    "    )\n",
    "    bars = chart.mark_bar(color=lat.palette[\"default\"], opacity=0.33).encode(\n",
    "        y=alt.Y(\"new_confirmed_cases:Q\", title=\"New confirmed cases\",),\n",
    "    )\n",
    "    chart_list.append((bars + lines).properties(height=200, width=250))\n",
    "facet_wrap(chart_list, plots_per_row=4)"
   ]
  },
  {
   "cell_type": "code",
   "execution_count": null,
   "metadata": {},
   "outputs": [],
   "source": [
    "import ipywidgets"
   ]
  },
  {
   "cell_type": "code",
   "execution_count": null,
   "metadata": {},
   "outputs": [],
   "source": [
    "# for county in list(biggest_county_jumps.tail(12).county):\n",
    "def countyplot(county='Los Angeles'):\n",
    "    this_df = chronological_county_df[chronological_county_df.county == county]\n",
    "    chart = alt.Chart(this_df, title=county).encode(\n",
    "        x=alt.X(\"date:T\", title=None, axis=None),\n",
    "    )\n",
    "    lines = chart.mark_line(color=lat.palette[\"accent\"]).encode(\n",
    "        y=alt.Y(\"new_confirmed_cases_rolling_average:Q\", title=None,),\n",
    "    )\n",
    "    bars = chart.mark_bar(color=lat.palette[\"default\"], opacity=0.33).encode(\n",
    "        y=alt.Y(\"new_confirmed_cases:Q\", title=\"New confirmed cases\",),\n",
    "    )\n",
    "    #chart_list.append((bars + lines).properties(height=200, width=250))\n",
    "    return (bars + lines).properties(height=200, width=250)\n",
    "    \n",
    "#facet_wrap(chart_list, plots_per_row=4)\n",
    "ipywidgets.interact(countyplot,county=biggest_county_jumps.county.unique());"
   ]
  },
  {
   "cell_type": "code",
   "execution_count": null,
   "metadata": {},
   "outputs": [],
   "source": []
  }
 ],
 "metadata": {
  "kernelspec": {
   "display_name": "Python 3",
   "language": "python",
   "name": "python3"
  },
  "language_info": {
   "codemirror_mode": {
    "name": "ipython",
    "version": 3
   },
   "file_extension": ".py",
   "mimetype": "text/x-python",
   "name": "python",
   "nbconvert_exporter": "python",
   "pygments_lexer": "ipython3",
   "version": "3.8.8"
  },
  "toc": {
   "base_numbering": 1,
   "nav_menu": {},
   "number_sections": true,
   "sideBar": true,
   "skip_h1_title": false,
   "title_cell": "Table of Contents",
   "title_sidebar": "Contents",
   "toc_cell": false,
   "toc_position": {},
   "toc_section_display": true,
   "toc_window_display": false
  }
 },
 "nbformat": 4,
 "nbformat_minor": 4
}
