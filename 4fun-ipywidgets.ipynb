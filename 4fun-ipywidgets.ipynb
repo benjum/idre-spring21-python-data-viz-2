{
 "cells": [
  {
   "cell_type": "markdown",
   "metadata": {},
   "source": [
    "# Gradient Descent\n",
    "# This is too much for our short workshop; instead take this as an illustration of what you might like to have fun with later\n",
    "\n",
    "Gradient descent is an iterative optimization algorithm for determining the local minimum of a differentiable function.\n",
    "\n",
    "For a function _f_, the gradient of _f_ with respect to the independent variables gives the direction in which _f_ increases the fastest.  By taking steps opposite to the gradient, one can iteratively move towards lower and lower values until one reaches the minimum of _f_ (ideally)."
   ]
  },
  {
   "cell_type": "code",
   "execution_count": null,
   "metadata": {},
   "outputs": [],
   "source": [
    "from IPython.display import Image\n",
    "Image(url='https://www.ahmednasr.at/wp-content/uploads/2017/05/gradientDescent.jpg') "
   ]
  },
  {
   "cell_type": "markdown",
   "metadata": {},
   "source": [
    "For an _f(x)_ that depends on only one variable:\n",
    "* choose a starting point, $x_0$\n",
    "* take a step towards a new $x$:\n",
    "  * $x_{n+1} = x_{n} - \\eta*df/dx$\n",
    "  * here, $\\eta$ is a user-chosen step size and $df/dx$ is the 1D gradient of f (i.e., the derivative)\n",
    "* continue until the value of _f(x)_ stops changing within some low tolerance"
   ]
  },
  {
   "cell_type": "code",
   "execution_count": null,
   "metadata": {},
   "outputs": [],
   "source": [
    "import numpy as np\n",
    "from ipywidgets import interactive, interact, interactive_output\n",
    "from ipywidgets import fixed, VBox, HBox, jslink, Play, FloatSlider, IntSlider\n",
    "import matplotlib.pyplot as plt"
   ]
  },
  {
   "cell_type": "code",
   "execution_count": null,
   "metadata": {},
   "outputs": [],
   "source": [
    "def f(x):\n",
    "    return np.exp(-x) * np.sin(5 * x)\n",
    "def df(x):\n",
    "    return -np.exp(-x) * np.sin(5 * x) + 5 * np.cos(5 *x) * np.exp(-x)\n",
    "\n",
    "def gradient_descent_2(x0, eta=.1, tol=1e-6, num_iters=10):\n",
    "    xtheory = np.linspace(0.5, 3, 300)\n",
    "    ytheory = f(xtheory)\n",
    "    x = [x0]\n",
    "    i = 0\n",
    "\n",
    "    fig = plt.figure(figsize=(12,7))\n",
    "    curve = plt.plot(xtheory, ytheory, 'b-')\n",
    "    plt.plot(x[-1],f(x[-1]),'ko',markersize=10)\n",
    "    while i < num_iters:\n",
    "        x_prev = x[-1]\n",
    "        grad = df(x_prev)\n",
    "        x_curr = x_prev - eta * grad\n",
    "        x.append(x_curr)\n",
    "        if f(x_curr) > 10:\n",
    "            break\n",
    "        plt.plot(x_curr,f(x_curr),'ko',markersize=10)\n",
    "        plt.plot([x_prev,x_curr],[f(x_prev),f(x_curr)],'k--')\n",
    "        \n",
    "        if np.abs(x_curr - x_prev) < tol:\n",
    "            break\n",
    "        i += 1\n",
    "    \n",
    "    fig.show()\n",
    "    \n",
    "a = FloatSlider(value=1.3,min=0.5,max=3,description='x0')\n",
    "b = IntSlider(value=0,min=0,max=50,description='num_iters')\n",
    "c = FloatSlider(value=0.2,min=0.01,max=2.0,step=0.01,description='eta')\n",
    "controls = VBox([a,b,c])\n",
    "plotwidget = interactive_output(gradient_descent_2, {\n",
    "                       'x0':a,\n",
    "                       'num_iters':b,\n",
    "                       'eta':c,\n",
    "                       'tol':fixed(1e-6)});\n",
    "def achanged(change):\n",
    "    b.value = 0\n",
    "a.observe(achanged,'value')\n",
    "\n",
    "def cchanged(change):\n",
    "    b.value = 0\n",
    "c.observe(cchanged,'value')\n",
    "\n",
    "play = Play(value=0,min=0,max=1000,step=1,interval=1000,description=\"Press play\",disabled=False)\n",
    "jslink((play, 'value'), (b, 'value'))\n",
    "gradmov = VBox([controls,plotwidget,play])\n",
    "\n",
    "display(gradmov)"
   ]
  },
  {
   "cell_type": "markdown",
   "metadata": {},
   "source": [
    "# The below are some more managably understandable coding steps to work up to the above code"
   ]
  },
  {
   "cell_type": "code",
   "execution_count": null,
   "metadata": {},
   "outputs": [],
   "source": [
    "def f(x):\n",
    "    return np.exp(-x) * np.sin(5 * x)\n",
    "def df(x):\n",
    "    return -np.exp(-x) * np.sin(5 * x) + 5 * np.cos(5 *x) * np.exp(-x)"
   ]
  },
  {
   "cell_type": "code",
   "execution_count": null,
   "metadata": {},
   "outputs": [],
   "source": [
    "x = np.linspace(0.5, 5.5, 500)\n",
    "y = f(x)"
   ]
  },
  {
   "cell_type": "code",
   "execution_count": null,
   "metadata": {},
   "outputs": [],
   "source": [
    "plt.plot(x,y);"
   ]
  },
  {
   "cell_type": "code",
   "execution_count": null,
   "metadata": {},
   "outputs": [],
   "source": [
    "fig = plt.figure(figsize=(12,7))\n",
    "curve = plt.plot(x, y, 'b-')\n",
    "points = plt.plot(x[100],y[100],'ko',markersize=10)"
   ]
  },
  {
   "cell_type": "code",
   "execution_count": null,
   "metadata": {},
   "outputs": [],
   "source": [
    "def gradient_descent(x0, eta=.1, tol=1e-6, num_iters=10):\n",
    "    xtheory = np.linspace(0.5, 5.5, 500)\n",
    "    ytheory = f(xtheory)\n",
    "    x = [x0]\n",
    "    i = 0\n",
    "\n",
    "    fig = plt.figure(figsize=(12,7))\n",
    "    curve = plt.plot(xtheory, ytheory, 'b-')\n",
    "    plt.plot(x[-1],f(x[-1]),'ko',markersize=10)\n",
    "    while i < num_iters:\n",
    "        x_prev = x[-1]\n",
    "        grad = df(x_prev)\n",
    "        x_curr = x_prev - eta * grad\n",
    "        x.append(x_curr)\n",
    "        if f(x_curr) > 10:\n",
    "            break\n",
    "        plt.plot(x_curr,f(x_curr),'ko',markersize=10)\n",
    "        \n",
    "        if np.abs(x_curr - x_prev) < tol:\n",
    "            break\n",
    "        i += 1\n",
    "    \n",
    "    fig.show()"
   ]
  },
  {
   "cell_type": "code",
   "execution_count": null,
   "metadata": {},
   "outputs": [],
   "source": [
    "gradient_descent(2.5, eta=.1, tol=1e-6, num_iters=10)"
   ]
  },
  {
   "cell_type": "code",
   "execution_count": null,
   "metadata": {},
   "outputs": [],
   "source": [
    "interactive(gradient_descent,x0=(0.5,5.5),num_iters=(0,20))"
   ]
  },
  {
   "cell_type": "code",
   "execution_count": null,
   "metadata": {},
   "outputs": [],
   "source": [
    "interactive(gradient_descent,\n",
    "                       x0=FloatSlider(value=2,min=0.5,max=5.5),\n",
    "                       num_iters=IntSlider(value=0,min=0,max=20),\n",
    "                       eta=FloatSlider(value=0.1,min=0.01,max=1.0,step=0.01),\n",
    "                       tol=fixed(1e-6))"
   ]
  },
  {
   "cell_type": "code",
   "execution_count": null,
   "metadata": {},
   "outputs": [],
   "source": [
    "a = FloatSlider(value=2,min=0.5,max=5.5)\n",
    "b = IntSlider(value=0,min=0,max=50)\n",
    "c = FloatSlider(value=0.1,min=0.01,max=2.0,step=0.01)\n",
    "interact(gradient_descent,\n",
    "                       x0 = a,\n",
    "                       num_iters = b,\n",
    "                       eta = c,\n",
    "                       tol=fixed(1e-6))\n",
    "def achanged(change):\n",
    "    b.value = 0\n",
    "a.observe(achanged,'value')\n",
    "\n",
    "def cchanged(change):\n",
    "    b.value = 0\n",
    "c.observe(cchanged,'value')"
   ]
  },
  {
   "cell_type": "code",
   "execution_count": null,
   "metadata": {},
   "outputs": [],
   "source": [
    "def gradient_descent_2(x0, eta=.1, tol=1e-6, num_iters=10):\n",
    "    xtheory = np.linspace(0.5, 3, 300)\n",
    "    ytheory = f(xtheory)\n",
    "    x = [x0]\n",
    "    i = 0\n",
    "\n",
    "    fig = plt.figure(figsize=(12,7))\n",
    "    curve = plt.plot(xtheory, ytheory, 'b-')\n",
    "    plt.plot(x[-1],f(x[-1]),'ko',markersize=10)\n",
    "    while i < num_iters:\n",
    "        x_prev = x[-1]\n",
    "        grad = df(x_prev)\n",
    "        x_curr = x_prev - eta * grad\n",
    "        x.append(x_curr)\n",
    "        if f(x_curr) > 10:\n",
    "            break\n",
    "        plt.plot(x_curr,f(x_curr),'ko',markersize=10)\n",
    "        plt.plot([x_prev,x_curr],[f(x_prev),f(x_curr)],'k--')\n",
    "        \n",
    "        if np.abs(x_curr - x_prev) < tol:\n",
    "            break\n",
    "        i += 1\n",
    "    \n",
    "    fig.show()"
   ]
  },
  {
   "cell_type": "code",
   "execution_count": null,
   "metadata": {},
   "outputs": [],
   "source": [
    "a = FloatSlider(value=1.3,min=0.5,max=3,description='x0')\n",
    "b = IntSlider(value=0,min=0,max=50,description='num_iters')\n",
    "c = FloatSlider(value=0.2,min=0.01,max=2.0,step=0.01,description='eta')\n",
    "controls = VBox([a,b,c])\n",
    "plotwidget = interactive_output(gradient_descent_2, {\n",
    "                       'x0':a,\n",
    "                       'num_iters':b,\n",
    "                       'eta':c,\n",
    "                       'tol':fixed(1e-6)});\n",
    "def achanged(change):\n",
    "    b.value = 0\n",
    "a.observe(achanged,'value')\n",
    "\n",
    "def cchanged(change):\n",
    "    b.value = 0\n",
    "c.observe(cchanged,'value')\n",
    "\n",
    "play = Play(value=0,min=0,max=1000,step=1,interval=1000,description=\"Press play\",disabled=False)\n",
    "jslink((play, 'value'), (b, 'value'))\n",
    "gradmov = VBox([controls,plotwidget,play])\n",
    "\n",
    "display(gradmov)"
   ]
  },
  {
   "cell_type": "code",
   "execution_count": null,
   "metadata": {},
   "outputs": [],
   "source": []
  }
 ],
 "metadata": {
  "kernelspec": {
   "display_name": "Python 3",
   "language": "python",
   "name": "python3"
  },
  "language_info": {
   "codemirror_mode": {
    "name": "ipython",
    "version": 3
   },
   "file_extension": ".py",
   "mimetype": "text/x-python",
   "name": "python",
   "nbconvert_exporter": "python",
   "pygments_lexer": "ipython3",
   "version": "3.8.8"
  },
  "toc": {
   "base_numbering": 1,
   "nav_menu": {},
   "number_sections": true,
   "sideBar": true,
   "skip_h1_title": false,
   "title_cell": "Table of Contents",
   "title_sidebar": "Contents",
   "toc_cell": false,
   "toc_position": {},
   "toc_section_display": true,
   "toc_window_display": false
  }
 },
 "nbformat": 4,
 "nbformat_minor": 1
}
