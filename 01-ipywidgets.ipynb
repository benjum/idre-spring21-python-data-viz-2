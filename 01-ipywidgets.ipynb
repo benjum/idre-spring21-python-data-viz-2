{
 "cells": [
  {
   "cell_type": "markdown",
   "metadata": {},
   "source": [
    "# ipywidgets"
   ]
  },
  {
   "cell_type": "markdown",
   "metadata": {},
   "source": [
    "The interact function (ipywidgets.interact) automatically creates user interface (UI) controls for exploring code and data interactively."
   ]
  },
  {
   "cell_type": "code",
   "execution_count": null,
   "metadata": {},
   "outputs": [],
   "source": [
    "import ipywidgets"
   ]
  },
  {
   "cell_type": "code",
   "execution_count": null,
   "metadata": {},
   "outputs": [],
   "source": [
    "def f(x):\n",
    "    return x"
   ]
  },
  {
   "cell_type": "code",
   "execution_count": null,
   "metadata": {},
   "outputs": [],
   "source": [
    "f(10)"
   ]
  },
  {
   "cell_type": "code",
   "execution_count": null,
   "metadata": {},
   "outputs": [],
   "source": [
    "f('a string')"
   ]
  },
  {
   "cell_type": "code",
   "execution_count": null,
   "metadata": {},
   "outputs": [],
   "source": [
    "ipywidgets.interact(f, x=10);"
   ]
  },
  {
   "cell_type": "code",
   "execution_count": null,
   "metadata": {},
   "outputs": [],
   "source": [
    "ipywidgets.interact(f, x=True);"
   ]
  },
  {
   "cell_type": "code",
   "execution_count": null,
   "metadata": {},
   "outputs": [],
   "source": [
    "ipywidgets.interact(f, x=10.6);"
   ]
  },
  {
   "cell_type": "code",
   "execution_count": null,
   "metadata": {},
   "outputs": [],
   "source": [
    "def h(p, q):\n",
    "    return (p, q)"
   ]
  },
  {
   "cell_type": "code",
   "execution_count": null,
   "metadata": {},
   "outputs": [],
   "source": [
    "ipywidgets.interact(h, p=6, q=5);"
   ]
  },
  {
   "cell_type": "code",
   "execution_count": null,
   "metadata": {},
   "outputs": [],
   "source": [
    "ipywidgets.interact(h,\n",
    "                    p=6,\n",
    "                    q=widgets.IntSlider(min=0,max=100,step=5,value=10));"
   ]
  },
  {
   "cell_type": "code",
   "execution_count": null,
   "metadata": {},
   "outputs": [],
   "source": [
    "ipywidgets.interact(h, p=6, q=(0,100,5));"
   ]
  },
  {
   "cell_type": "code",
   "execution_count": null,
   "metadata": {},
   "outputs": [],
   "source": [
    "ipywidgets.interact(f, x=['apples','oranges']);"
   ]
  },
  {
   "cell_type": "code",
   "execution_count": null,
   "metadata": {},
   "outputs": [],
   "source": [
    "ipywidgets.interact(f, x=[('apples',10),('oranges',20)]);"
   ]
  },
  {
   "cell_type": "code",
   "execution_count": null,
   "metadata": {},
   "outputs": [],
   "source": [
    "from IPython.display import display\n",
    "def f(a, b):\n",
    "    display(a + b)\n",
    "    return a+b"
   ]
  },
  {
   "cell_type": "code",
   "execution_count": null,
   "metadata": {},
   "outputs": [],
   "source": [
    "w = ipywidgets.interactive(f, a=10, b=20)"
   ]
  },
  {
   "cell_type": "code",
   "execution_count": null,
   "metadata": {},
   "outputs": [],
   "source": [
    "w"
   ]
  },
  {
   "cell_type": "code",
   "execution_count": null,
   "metadata": {},
   "outputs": [],
   "source": [
    "type(w)"
   ]
  },
  {
   "cell_type": "code",
   "execution_count": null,
   "metadata": {},
   "outputs": [],
   "source": [
    "w.children"
   ]
  },
  {
   "cell_type": "code",
   "execution_count": null,
   "metadata": {},
   "outputs": [],
   "source": [
    "w.kwargs"
   ]
  },
  {
   "cell_type": "code",
   "execution_count": null,
   "metadata": {},
   "outputs": [],
   "source": [
    "w.result"
   ]
  },
  {
   "cell_type": "code",
   "execution_count": null,
   "metadata": {},
   "outputs": [],
   "source": [
    "def slow_function(i):\n",
    "    print(int(i),list(x for x in range(int(i)) if\n",
    "                str(x)==str(x)[::-1] and\n",
    "                str(x**2)==str(x**2)[::-1]))\n",
    "    return"
   ]
  },
  {
   "cell_type": "code",
   "execution_count": null,
   "metadata": {},
   "outputs": [],
   "source": [
    "ipywidgets.interact(slow_function,i=widgets.FloatSlider(min=1e5, max=1e7, step=1e5));"
   ]
  },
  {
   "cell_type": "code",
   "execution_count": null,
   "metadata": {},
   "outputs": [],
   "source": [
    "ipywidgets.interact_manual(slow_function,i=widgets.FloatSlider(min=1e5, max=1e7, step=1e5));"
   ]
  },
  {
   "cell_type": "code",
   "execution_count": null,
   "metadata": {},
   "outputs": [],
   "source": [
    "ipywidgets.interact(slow_function,i=widgets.FloatSlider(min=1e5, max=1e7, step=1e5,continuous_update=False));"
   ]
  },
  {
   "cell_type": "code",
   "execution_count": null,
   "metadata": {},
   "outputs": [],
   "source": [
    "#\n",
    "# Exercise: \n",
    "# Execute this cell to see what the function does.\n",
    "# Then use interact to make an interactive control for this function\n",
    "#\n",
    "\n",
    "def reverse(x):\n",
    "    return x[::-1]\n",
    "\n",
    "reverse('I am printed backwards.')\n"
   ]
  },
  {
   "cell_type": "code",
   "execution_count": null,
   "metadata": {},
   "outputs": [],
   "source": [
    "# Execute this cell to see an example solution\n",
    "%load 'exercises/ipywidgets1.py'"
   ]
  },
  {
   "cell_type": "markdown",
   "metadata": {},
   "source": [
    "# Usefulness in exploring data and visualization"
   ]
  },
  {
   "cell_type": "markdown",
   "metadata": {},
   "source": [
    "## Let's take the Mean and Standard Deviation\n",
    "\n",
    "How can we conceptually grasp these concepts?"
   ]
  },
  {
   "cell_type": "markdown",
   "metadata": {},
   "source": [
    "Gaussian distribution function:\n",
    "\n",
    "$$y(x) = \\frac{1}{\\sigma\\sqrt{2\\pi}}\\text{exp}\\left(-\\frac{1}{2}\\frac{(x-\\mu)^2}{\\sigma^2}\\right)$$\n",
    "\n",
    "* $\\mu$ is the mean\n",
    "* $\\sigma$ is the standard deviation"
   ]
  },
  {
   "cell_type": "code",
   "execution_count": null,
   "metadata": {},
   "outputs": [],
   "source": [
    "import matplotlib.pyplot as plt\n",
    "import numpy as np"
   ]
  },
  {
   "cell_type": "code",
   "execution_count": null,
   "metadata": {},
   "outputs": [],
   "source": [
    "mu = 0\n",
    "sigma = 1\n",
    "\n",
    "x = np.linspace(-10,10,200)\n",
    "y = 1/sigma/np.sqrt(2*np.pi) * np.exp(-0.5*((x-mu)**2/sigma**2))\n",
    "\n",
    "plt.figure(figsize=(8,4))\n",
    "plt.plot(x,y,'k-')\n",
    "plt.grid()\n",
    "plt.ylim([-0.01,0.5])\n",
    "plt.show()"
   ]
  },
  {
   "cell_type": "code",
   "execution_count": null,
   "metadata": {},
   "outputs": [],
   "source": [
    "def gaussian(mu=0,sigma=1):\n",
    "    x = np.linspace(-10,10,200)\n",
    "    y = 1/sigma/np.sqrt(2*np.pi) * np.exp(-0.5*((x-mu)**2/sigma**2))\n",
    "\n",
    "    plt.figure(figsize=(8,4))\n",
    "    plt.plot(x,y,'k-')\n",
    "    plt.grid()\n",
    "    plt.ylim([-0.01,0.5])\n",
    "    plt.show()"
   ]
  },
  {
   "cell_type": "code",
   "execution_count": null,
   "metadata": {},
   "outputs": [],
   "source": [
    "gaussian(0,1)"
   ]
  },
  {
   "cell_type": "code",
   "execution_count": null,
   "metadata": {},
   "outputs": [],
   "source": [
    "ipywidgets.interactive(gaussian,mu=(-10,10),sigma=(0.1,10))"
   ]
  },
  {
   "cell_type": "code",
   "execution_count": null,
   "metadata": {},
   "outputs": [],
   "source": [
    "def plotgaus(mu=0,sigma=1):\n",
    "\n",
    "    x = np.linspace(-5,5,100)\n",
    "    y = 1 / (sigma*np.sqrt(2*np.pi)) * np.exp(-1/2 * (x-mu)**2 / sigma**2)\n",
    "\n",
    "    plt.figure(figsize=(6,5))\n",
    "    plt.plot(x,y,lw=2)\n",
    "    plt.ylim([0,0.5])\n",
    "    plt.xlim([-5,5])\n",
    "    plt.xlabel('x',fontsize=16)\n",
    "    plt.ylabel('y',fontsize=16)\n",
    "    plt.xticks(np.linspace(-5,5,11))\n",
    "\n",
    "    plt.text(6,0.45,f'$\\mu = {mu}$',fontsize=16,color='red')\n",
    "    plt.plot([mu,mu],\n",
    "             [0,1 / (sigma*np.sqrt(2*np.pi)) * np.exp(-1/2 * (mu-mu)**2 / sigma**2)],\n",
    "             'r--')\n",
    "    plt.plot([mu,mu+sigma*np.sqrt(2*np.log(2))],\n",
    "             [1 / (sigma*np.sqrt(2*np.pi)) / 2, 1 / (sigma*np.sqrt(2*np.pi)) / 2],\n",
    "             'g--')\n",
    "    plt.text(6,0.4,f'$\\sigma = {sigma}$',fontsize=16)\n",
    "    plt.text(6,0.35,'{:s}{:.2f}'.format('half-width half max = $\\sigma\\sqrt{2\\ln2} = $',\n",
    "                                        sigma*np.sqrt(2*np.log(2))),color='green',fontsize=16)\n",
    "    plt.show()\n",
    "    \n",
    "ipywidgets.interactive(plotgaus,mu=(-5,5),sigma=(0.1,3))"
   ]
  },
  {
   "cell_type": "code",
   "execution_count": null,
   "metadata": {},
   "outputs": [],
   "source": [
    "#\n",
    "# Exercise: Here is a function that plots sin(k*x + p)\n",
    "# Execute the cell to see an example plot\n",
    "# Then use interact to make sliders for the parameters $k$ and $p$, \n",
    "# where 0.5 <= k <= 2 and 0 <= p <= 2*pi (hint: use `np.pi` for pi).\n",
    "#\n",
    "#\n",
    "def plot_f(k, p):\n",
    "    x = np.linspace(0, 4 * np.pi)\n",
    "    y = np.sin(k*x + p)\n",
    "    plt.plot(x, y)\n",
    "    \n",
    "plot_f(1.3, 3)"
   ]
  },
  {
   "cell_type": "code",
   "execution_count": null,
   "metadata": {},
   "outputs": [],
   "source": [
    "# Execute this cell to see an example solution\n",
    "%load 'exercises/ipywidgets2.py'"
   ]
  },
  {
   "cell_type": "code",
   "execution_count": null,
   "metadata": {},
   "outputs": [],
   "source": []
  }
 ],
 "metadata": {
  "kernelspec": {
   "display_name": "Python 3",
   "language": "python",
   "name": "python3"
  },
  "language_info": {
   "codemirror_mode": {
    "name": "ipython",
    "version": 3
   },
   "file_extension": ".py",
   "mimetype": "text/x-python",
   "name": "python",
   "nbconvert_exporter": "python",
   "pygments_lexer": "ipython3",
   "version": "3.8.8"
  },
  "toc": {
   "base_numbering": 1,
   "nav_menu": {},
   "number_sections": true,
   "sideBar": true,
   "skip_h1_title": false,
   "title_cell": "Table of Contents",
   "title_sidebar": "Contents",
   "toc_cell": false,
   "toc_position": {},
   "toc_section_display": true,
   "toc_window_display": false
  }
 },
 "nbformat": 4,
 "nbformat_minor": 2
}
