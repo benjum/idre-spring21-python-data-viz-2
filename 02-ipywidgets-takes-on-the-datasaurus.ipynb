{
 "cells": [
  {
   "cell_type": "markdown",
   "metadata": {},
   "source": [
    "This dataset is taken from a research study called <a href=\"https://www.autodeskresearch.com/publications/samestats\" target=\"_blank\">The Datasaurus Dozen</a> by Autodesk research and the original <a href=\"http://www.thefunctionalart.com/2016/08/download-datasaurus-never-trust-summary.html\" target=\"_blank\">Datasaurus</a> provided by Alberto Cairo."
   ]
  },
  {
   "cell_type": "code",
   "execution_count": null,
   "metadata": {},
   "outputs": [],
   "source": [
    "import pandas as pd\n",
    "import matplotlib.pyplot as plt\n",
    "import ipywidgets"
   ]
  },
  {
   "cell_type": "code",
   "execution_count": null,
   "metadata": {},
   "outputs": [],
   "source": [
    "dinodf = pd.read_csv('data/DatasaurusDozen.tsv', delimiter='\\t')"
   ]
  },
  {
   "cell_type": "code",
   "execution_count": null,
   "metadata": {},
   "outputs": [],
   "source": [
    "dinodf"
   ]
  },
  {
   "cell_type": "code",
   "execution_count": null,
   "metadata": {},
   "outputs": [],
   "source": [
    "fig,ax = plt.subplots(2,2,figsize=(8,8))\n",
    "\n",
    "x = dinodf[dinodf.dataset=='dino'].x\n",
    "y = dinodf[dinodf.dataset=='dino'].y\n",
    "\n",
    "ax[1,0].scatter(x, y)\n",
    "\n",
    "ax[0,0].hist(x, bins=10, rwidth=0.9)\n",
    "ax[1,1].hist(y, bins=10, rwidth=0.9, orientation='horizontal')\n",
    "\n",
    "ax[0,1].text(0.2,0.8,'x_mean = {:.2f}'.format(x.mean()))\n",
    "ax[0,1].text(0.2,0.7,'x_stddev = {:.2f}'.format(x.std()))\n",
    "ax[0,1].text(0.2,0.6,'y_mean = {:.2f}'.format(y.mean()))\n",
    "ax[0,1].text(0.2,0.5,'y_stddev = {:.2f}'.format(y.std()))\n",
    "ax[0,1].text(0.2,0.4,'corr = {:.2f}'.format(x.corr(y)))\n",
    "\n",
    "fig.show()"
   ]
  },
  {
   "cell_type": "code",
   "execution_count": null,
   "metadata": {},
   "outputs": [],
   "source": [
    "#\n",
    "# Exercise: use ipywidgets to make a menu for cycling through all of the dataset values\n",
    "#   \n",
    "\n"
   ]
  },
  {
   "cell_type": "code",
   "execution_count": null,
   "metadata": {},
   "outputs": [],
   "source": [
    "# Execute this cell to see one possible solution\n",
    "%load 'exercises/widgetosaurus.py'"
   ]
  }
 ],
 "metadata": {
  "kernelspec": {
   "display_name": "Python 3",
   "language": "python",
   "name": "python3"
  },
  "language_info": {
   "codemirror_mode": {
    "name": "ipython",
    "version": 3
   },
   "file_extension": ".py",
   "mimetype": "text/x-python",
   "name": "python",
   "nbconvert_exporter": "python",
   "pygments_lexer": "ipython3",
   "version": "3.8.8"
  },
  "toc": {
   "base_numbering": 1,
   "nav_menu": {},
   "number_sections": true,
   "sideBar": true,
   "skip_h1_title": false,
   "title_cell": "Table of Contents",
   "title_sidebar": "Contents",
   "toc_cell": false,
   "toc_position": {},
   "toc_section_display": true,
   "toc_window_display": false
  }
 },
 "nbformat": 4,
 "nbformat_minor": 2
}
